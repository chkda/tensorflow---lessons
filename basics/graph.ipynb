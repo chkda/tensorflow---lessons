{
 "cells": [
  {
   "cell_type": "markdown",
   "metadata": {
    "collapsed": true
   },
   "source": [
    "Here we will learn about tensorflow graphs and tensorboard visualisation"
   ]
  },
  {
   "cell_type": "code",
   "execution_count": 1,
   "metadata": {},
   "outputs": [],
   "source": [
    "import tensorflow as tf"
   ]
  },
  {
   "cell_type": "code",
   "execution_count": 2,
   "metadata": {},
   "outputs": [],
   "source": [
    "with tf.name_scope('first_operartion'):\n",
    "    a = tf.add(3, 4, name='add_1')\n",
    "    b = tf.add(4, 5, name='add_2')\n",
    "    c1 = tf.multiply(a, b, name='multiply_1')\n",
    "with tf.name_scope('second_operation'):\n",
    "    d = tf.add(4, 5, name='add_3')\n",
    "    e = tf.add(6, 7, name='add_4')\n",
    "    c2 = tf.multiply(d, e, name='multiply_2')\n",
    "    \n",
    "c = tf.multiply(c1, c2, name='mul')    "
   ]
  },
  {
   "cell_type": "code",
   "execution_count": 5,
   "metadata": {},
   "outputs": [
    {
     "name": "stdout",
     "output_type": "stream",
     "text": [
      "7371\n"
     ]
    }
   ],
   "source": [
    "with tf.Session() as sess:\n",
    "    writer = tf.summary.FileWriter('F:/my files/python files/neural networks/Tensorflow lessons/basics/./out', sess.graph)\n",
    "    print(sess.run(c))\n",
    "    writer.close()"
   ]
  },
  {
   "cell_type": "code",
   "execution_count": null,
   "metadata": {},
   "outputs": [],
   "source": []
  }
 ],
 "metadata": {
  "kernelspec": {
   "display_name": "Python 2",
   "language": "python",
   "name": "python2"
  },
  "language_info": {
   "codemirror_mode": {
    "name": "ipython",
    "version": 2
   },
   "file_extension": ".py",
   "mimetype": "text/x-python",
   "name": "python",
   "nbconvert_exporter": "python",
   "pygments_lexer": "ipython2",
   "version": "2.7.6"
  }
 },
 "nbformat": 4,
 "nbformat_minor": 0
}
