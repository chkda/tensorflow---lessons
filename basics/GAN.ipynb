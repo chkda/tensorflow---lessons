{
 "cells": [
  {
   "cell_type": "code",
   "execution_count": 16,
   "metadata": {},
   "outputs": [],
   "source": [
    "import pickle as pkl\n",
    "import tensorflow as tf\n",
    "import matplotlib.pyplot as plt \n",
    "import numpy as np"
   ]
  },
  {
   "cell_type": "code",
   "execution_count": 17,
   "metadata": {},
   "outputs": [
    {
     "name": "stdout",
     "output_type": "stream",
     "text": [
      "Extracting MNIST_data\\train-images-idx3-ubyte.gz\n",
      "Extracting MNIST_data\\train-labels-idx1-ubyte.gz\n",
      "Extracting MNIST_data\\t10k-images-idx3-ubyte.gz\n",
      "Extracting MNIST_data\\t10k-labels-idx1-ubyte.gz\n"
     ]
    }
   ],
   "source": [
    "from tensorflow.examples.tutorials.mnist import input_data\n",
    "mnist = input_data.read_data_sets('MNIST_data')"
   ]
  },
  {
   "cell_type": "code",
   "execution_count": 18,
   "metadata": {},
   "outputs": [],
   "source": [
    "def model_inputs(real_dim,z_dim):\n",
    "    real_inp = tf.placeholder(dtype='float32',shape=[None,real_dim])\n",
    "    z_inp = tf.placeholder(dtype='float32',shape=[None,z_dim])\n",
    "    return real_inp,z_inp"
   ]
  },
  {
   "cell_type": "code",
   "execution_count": 19,
   "metadata": {},
   "outputs": [],
   "source": [
    "def generator(z,out_dim,n_units,alpha,reuse=False):\n",
    "    with tf.variable_scope('generator',reuse=reuse):\n",
    "        layer1 = tf.layers.dense(z,n_units,activation=None)\n",
    "        layer1 = tf.nn.leaky_relu(layer1,alpha=alpha)\n",
    "        layer2 = tf.layers.dense(layer1,out_dim,activation=tf.nn.tanh)\n",
    "        return layer2\n",
    "        "
   ]
  },
  {
   "cell_type": "code",
   "execution_count": 20,
   "metadata": {},
   "outputs": [],
   "source": [
    "def discriminator(x,n_units,alpha,reuse=False):\n",
    "    with tf.variable_scope('discriminator',reuse=reuse):\n",
    "        layer1 = tf.layers.dense(x,n_units,activation=None)\n",
    "        layer1 = tf.nn.leaky_relu(layer1,alpha=alpha)\n",
    "        layer2 = tf.layers.dense(layer1,1,activation=None)\n",
    "        out = tf.nn.sigmoid(layer2)\n",
    "        return layer2,out"
   ]
  },
  {
   "cell_type": "code",
   "execution_count": 21,
   "metadata": {},
   "outputs": [],
   "source": [
    "input_size = 784\n",
    "z_size = 100\n",
    "g_hidden_size = 128\n",
    "d_hidden_size = 128\n",
    "alpha = 0.01\n",
    "smoothing = 0.1"
   ]
  },
  {
   "cell_type": "code",
   "execution_count": 22,
   "metadata": {},
   "outputs": [],
   "source": [
    "tf.reset_default_graph()\n",
    "input_real,z_real = model_inputs(input_size,z_size)\n",
    "g_model = generator(z_real,input_size,n_units=g_hidden_size,alpha=alpha)\n",
    "d_real_log,d_real_out = discriminator(input_real,n_units=d_hidden_size,alpha=alpha)\n",
    "d_fake_log,d_fake_out = discriminator(g_model,n_units=d_hidden_size,alpha=alpha,reuse=True)"
   ]
  },
  {
   "cell_type": "code",
   "execution_count": 23,
   "metadata": {},
   "outputs": [],
   "source": [
    "lab = tf.ones_like(d_real_log)*(1-smoothing)\n",
    "d_loss_real = tf.nn.sigmoid_cross_entropy_with_logits(logits=d_real_log,labels=lab)\n",
    "d_loss_real = tf.reduce_mean(d_loss_real)\n",
    "d_loss_fake = tf.nn.sigmoid_cross_entropy_with_logits(logits=d_fake_log,labels=tf.zeros_like(d_fake_log))\n",
    "d_loss_fake = tf.reduce_mean(d_loss_fake)\n",
    "d_loss = d_loss_real + d_loss_fake\n",
    "g_loss = tf.nn.sigmoid_cross_entropy_with_logits(logits=d_fake_log,labels=tf.ones_like(d_fake_log))\n",
    "g_loss = tf.reduce_mean(g_loss)"
   ]
  },
  {
   "cell_type": "code",
   "execution_count": 24,
   "metadata": {},
   "outputs": [],
   "source": [
    "learning_rate = 0.001\n",
    "t_vars = tf.trainable_variables()\n",
    "g_vars = [var for var in t_vars if var.name.startswith('generator')]\n",
    "d_vars = [var for var in t_vars if var.name.startswith('discriminator')]\n",
    "\n",
    "d_train_opt = tf.train.AdamOptimizer(learning_rate=learning_rate).minimize(d_loss,var_list=d_vars)\n",
    "g_train_opt = tf.train.AdamOptimizer(learning_rate=learning_rate).minimize(g_loss,var_list=g_vars)"
   ]
  },
  {
   "cell_type": "code",
   "execution_count": 28,
   "metadata": {},
   "outputs": [
    {
     "name": "stdout",
     "output_type": "stream",
     "text": [
      "Epoch: 0 Dis loss: 0.359525 Gen loss: 3.8268\n",
      "Epoch: 1 Dis loss: 0.366946 Gen loss: 3.67953\n",
      "Epoch: 2 Dis loss: 0.429366 Gen loss: 2.88036\n",
      "Epoch: 3 Dis loss: 0.838542 Gen loss: 2.31504\n",
      "Epoch: 4 Dis loss: 0.769873 Gen loss: 5.18181\n",
      "Epoch: 5 Dis loss: 0.727508 Gen loss: 3.39824\n",
      "Epoch: 6 Dis loss: 0.899187 Gen loss: 2.17584\n",
      "Epoch: 7 Dis loss: 0.788145 Gen loss: 2.9936\n",
      "Epoch: 8 Dis loss: 0.702328 Gen loss: 3.8863\n",
      "Epoch: 9 Dis loss: 1.5539 Gen loss: 1.81831\n",
      "Epoch: 10 Dis loss: 1.18592 Gen loss: 4.45037\n",
      "Epoch: 11 Dis loss: 1.24817 Gen loss: 2.56259\n",
      "Epoch: 12 Dis loss: 0.74551 Gen loss: 3.07549\n",
      "Epoch: 13 Dis loss: 1.17208 Gen loss: 1.72858\n",
      "Epoch: 14 Dis loss: 1.14899 Gen loss: 2.26703\n",
      "Epoch: 15 Dis loss: 0.897991 Gen loss: 2.522\n",
      "Epoch: 16 Dis loss: 0.840088 Gen loss: 2.15648\n",
      "Epoch: 17 Dis loss: 1.75016 Gen loss: 1.10166\n",
      "Epoch: 18 Dis loss: 0.977347 Gen loss: 1.71855\n",
      "Epoch: 19 Dis loss: 0.866289 Gen loss: 3.25712\n",
      "Epoch: 20 Dis loss: 0.938168 Gen loss: 2.56442\n",
      "Epoch: 21 Dis loss: 1.33367 Gen loss: 1.26893\n",
      "Epoch: 22 Dis loss: 1.15708 Gen loss: 1.32244\n",
      "Epoch: 23 Dis loss: 1.11119 Gen loss: 1.11049\n",
      "Epoch: 24 Dis loss: 1.00683 Gen loss: 1.72366\n",
      "Epoch: 25 Dis loss: 0.799331 Gen loss: 2.32895\n",
      "Epoch: 26 Dis loss: 1.17574 Gen loss: 1.58618\n",
      "Epoch: 27 Dis loss: 1.00354 Gen loss: 2.16811\n",
      "Epoch: 28 Dis loss: 1.04344 Gen loss: 1.92645\n",
      "Epoch: 29 Dis loss: 1.06084 Gen loss: 2.50757\n",
      "Epoch: 30 Dis loss: 0.689654 Gen loss: 2.56343\n",
      "Epoch: 31 Dis loss: 1.22091 Gen loss: 1.25584\n",
      "Epoch: 32 Dis loss: 0.981779 Gen loss: 2.00667\n",
      "Epoch: 33 Dis loss: 1.04882 Gen loss: 1.9703\n",
      "Epoch: 34 Dis loss: 0.968873 Gen loss: 2.04824\n",
      "Epoch: 35 Dis loss: 1.05525 Gen loss: 2.21809\n",
      "Epoch: 36 Dis loss: 1.71382 Gen loss: 1.32087\n",
      "Epoch: 37 Dis loss: 0.917231 Gen loss: 1.86852\n",
      "Epoch: 38 Dis loss: 1.28323 Gen loss: 1.20251\n",
      "Epoch: 39 Dis loss: 1.25202 Gen loss: 1.64888\n",
      "Epoch: 40 Dis loss: 1.13387 Gen loss: 1.57655\n",
      "Epoch: 41 Dis loss: 0.959617 Gen loss: 1.6517\n",
      "Epoch: 42 Dis loss: 1.02582 Gen loss: 1.62759\n",
      "Epoch: 43 Dis loss: 1.09596 Gen loss: 1.77298\n",
      "Epoch: 44 Dis loss: 0.876649 Gen loss: 1.84599\n",
      "Epoch: 45 Dis loss: 1.12203 Gen loss: 1.44405\n",
      "Epoch: 46 Dis loss: 1.33761 Gen loss: 1.29548\n",
      "Epoch: 47 Dis loss: 0.957968 Gen loss: 1.65027\n",
      "Epoch: 48 Dis loss: 1.02159 Gen loss: 1.51521\n",
      "Epoch: 49 Dis loss: 0.984376 Gen loss: 1.41316\n",
      "Epoch: 50 Dis loss: 1.13154 Gen loss: 1.27621\n",
      "Epoch: 51 Dis loss: 1.31092 Gen loss: 1.61789\n",
      "Epoch: 52 Dis loss: 1.02655 Gen loss: 1.59875\n",
      "Epoch: 53 Dis loss: 1.18915 Gen loss: 1.43332\n",
      "Epoch: 54 Dis loss: 0.902475 Gen loss: 2.15699\n",
      "Epoch: 55 Dis loss: 0.899975 Gen loss: 2.00097\n",
      "Epoch: 56 Dis loss: 0.958772 Gen loss: 1.53255\n",
      "Epoch: 57 Dis loss: 0.970689 Gen loss: 1.6679\n",
      "Epoch: 58 Dis loss: 0.928813 Gen loss: 1.84208\n",
      "Epoch: 59 Dis loss: 1.31243 Gen loss: 1.47981\n",
      "Epoch: 60 Dis loss: 1.2095 Gen loss: 1.65828\n",
      "Epoch: 61 Dis loss: 0.930359 Gen loss: 2.12118\n",
      "Epoch: 62 Dis loss: 1.1273 Gen loss: 1.76807\n",
      "Epoch: 63 Dis loss: 1.21189 Gen loss: 1.73431\n",
      "Epoch: 64 Dis loss: 1.15152 Gen loss: 1.39162\n",
      "Epoch: 65 Dis loss: 0.88974 Gen loss: 1.88123\n",
      "Epoch: 66 Dis loss: 0.941161 Gen loss: 1.65883\n",
      "Epoch: 67 Dis loss: 0.986371 Gen loss: 1.81401\n",
      "Epoch: 68 Dis loss: 0.918342 Gen loss: 1.88697\n",
      "Epoch: 69 Dis loss: 0.91174 Gen loss: 1.76064\n",
      "Epoch: 70 Dis loss: 0.811932 Gen loss: 2.13386\n",
      "Epoch: 71 Dis loss: 0.927535 Gen loss: 1.67597\n",
      "Epoch: 72 Dis loss: 1.20554 Gen loss: 1.52881\n",
      "Epoch: 73 Dis loss: 1.08828 Gen loss: 1.32123\n",
      "Epoch: 74 Dis loss: 1.02302 Gen loss: 1.85486\n",
      "Epoch: 75 Dis loss: 0.904222 Gen loss: 1.83842\n",
      "Epoch: 76 Dis loss: 0.922589 Gen loss: 1.87526\n",
      "Epoch: 77 Dis loss: 1.00071 Gen loss: 1.87676\n",
      "Epoch: 78 Dis loss: 1.1179 Gen loss: 1.64682\n",
      "Epoch: 79 Dis loss: 1.04062 Gen loss: 1.62741\n",
      "Epoch: 80 Dis loss: 1.11618 Gen loss: 1.22423\n",
      "Epoch: 81 Dis loss: 1.16225 Gen loss: 1.50718\n",
      "Epoch: 82 Dis loss: 0.954354 Gen loss: 1.80247\n",
      "Epoch: 83 Dis loss: 1.25773 Gen loss: 1.24681\n",
      "Epoch: 84 Dis loss: 0.905266 Gen loss: 1.91349\n",
      "Epoch: 85 Dis loss: 0.885324 Gen loss: 1.80337\n",
      "Epoch: 86 Dis loss: 0.914242 Gen loss: 1.92052\n",
      "Epoch: 87 Dis loss: 1.091 Gen loss: 1.53402\n",
      "Epoch: 88 Dis loss: 1.00045 Gen loss: 1.92872\n",
      "Epoch: 89 Dis loss: 1.00093 Gen loss: 1.34941\n",
      "Epoch: 90 Dis loss: 1.22487 Gen loss: 1.33892\n",
      "Epoch: 91 Dis loss: 1.03869 Gen loss: 1.46074\n",
      "Epoch: 92 Dis loss: 1.08061 Gen loss: 1.45801\n",
      "Epoch: 93 Dis loss: 1.10205 Gen loss: 1.55292\n",
      "Epoch: 94 Dis loss: 1.03874 Gen loss: 1.63679\n",
      "Epoch: 95 Dis loss: 0.905913 Gen loss: 1.68346\n",
      "Epoch: 96 Dis loss: 1.07106 Gen loss: 1.37158\n",
      "Epoch: 97 Dis loss: 1.03316 Gen loss: 1.59387\n",
      "Epoch: 98 Dis loss: 1.07303 Gen loss: 1.57667\n",
      "Epoch: 99 Dis loss: 1.10972 Gen loss: 1.43125\n"
     ]
    }
   ],
   "source": [
    "batch = 100\n",
    "epochs = 100\n",
    "samples = []\n",
    "losses = []\n",
    "saver = tf.train.Saver(var_list=g_vars)\n",
    "init = tf.global_variables_initializer()\n",
    "with tf.Session() as sess:\n",
    "    sess.run(init)\n",
    "    for epoch in range(epochs):\n",
    "        for i in range(mnist.train.num_examples//batch):\n",
    "            bat = mnist.train.next_batch(batch_size=batch)\n",
    "            batch_images = bat[0].reshape((batch,784))\n",
    "            batch_images = batch_images*2 - 1\n",
    "            batch_z = np.random.uniform(-1,1,size=(batch,z_size))\n",
    "            _ = sess.run(d_train_opt,feed_dict={input_real:batch_images,z_real:batch_z})\n",
    "            _ = sess.run(g_train_opt,feed_dict={z_real:batch_z})\n",
    "            \n",
    "        train_loss_d = sess.run(d_loss,feed_dict={input_real:batch_images,z_real:batch_z})\n",
    "        train_loss_g = sess.run(g_loss,feed_dict={z_real:batch_z})\n",
    "        print('Epoch:',epoch,'Dis loss:',train_loss_d,'Gen loss:',train_loss_g)\n",
    "        losses.append((train_loss_d,train_loss_g))\n",
    "        samp_z = np.random.uniform(-1,1,size=(8,z_size))\n",
    "        im_sample = sess.run(generator(z_real,input_size,n_units=g_hidden_size,alpha=alpha,reuse=True),\n",
    "                            feed_dict={z_real:samp_z})\n",
    "        samples.append(im_sample)\n",
    "        saver.save(sess,'./checkpoints/generator.ckpt')\n",
    "        \n",
    "with open('train_samples.pkl', 'wb') as f:\n",
    "    pkl.dump(samples, f)\n",
    "    "
   ]
  },
  {
   "cell_type": "code",
   "execution_count": 29,
   "metadata": {},
   "outputs": [
    {
     "data": {
      "text/plain": [
       "<matplotlib.legend.Legend at 0x6aa9eeff98>"
      ]
     },
     "execution_count": 29,
     "metadata": {},
     "output_type": "execute_result"
    },
    {
     "data": {
      "image/png": "[encoded data removed]",
      "text/plain": [
       "<matplotlib.figure.Figure at 0x6aab216e48>"
      ]
     },
     "metadata": {},
     "output_type": "display_data"
    }
   ],
   "source": [
    "fig,ax = plt.subplots()\n",
    "losses = np.array(losses)\n",
    "plt.plot(losses.T[0],label='Discriminator')\n",
    "plt.plot(losses.T[1],label='Generator')\n",
    "plt.title('Losses')\n",
    "plt.legend()"
   ]
  },
  {
   "cell_type": "code",
   "execution_count": null,
   "metadata": {},
   "outputs": [],
   "source": []
  }
 ],
 "metadata": {
  "kernelspec": {
   "display_name": "Python 3",
   "language": "python",
   "name": "python3"
  },
  "language_info": {
   "codemirror_mode": {
    "name": "ipython",
    "version": 3
   },
   "file_extension": ".py",
   "mimetype": "text/x-python",
   "name": "python",
   "nbconvert_exporter": "python",
   "pygments_lexer": "ipython3",
   "version": "3.5.5"
  }
 },
 "nbformat": 4,
 "nbformat_minor": 2
}
