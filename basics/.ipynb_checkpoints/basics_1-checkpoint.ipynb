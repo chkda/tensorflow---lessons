{
 "cells": [
  {
   "cell_type": "markdown",
   "metadata": {
    "collapsed": true
   },
   "source": [
    "Tensorflow is an open source machine learning library by Google. Here i will try to cover the basic requirements that you need inorder to get up and running. More information can be found on the official Tensorflow website. The objective is that beginners' don't face the same amount of difficulty that I had to face. \n",
    "\n",
    "In the first phase we will be doing some tensorflow math operations."
   ]
  },
  {
   "cell_type": "code",
   "execution_count": 1,
   "metadata": {},
   "outputs": [],
   "source": [
    "import tensorflow as tf"
   ]
  },
  {
   "cell_type": "code",
   "execution_count": 2,
   "metadata": {},
   "outputs": [
    {
     "name": "stdout",
     "output_type": "stream",
     "text": [
      "tensor a: Tensor(\"Const:0\", shape=(), dtype=int32)\n",
      "tensor b Tensor(\"Const_1:0\", shape=(), dtype=int32)\n"
     ]
    }
   ],
   "source": [
    "a = tf.constant(5)\n",
    "b = tf.constant(6)\n",
    "print('tensor a:', a)\n",
    "print('tensor b', b)"
   ]
  },
  {
   "cell_type": "markdown",
   "metadata": {},
   "source": [
    "In the above snippet notice output of print statements. It shows that the a and b are tensors of constant values. It does not print the value of a and b. So there are \n",
    "a few questions. First, what is a tensor? It appears in the print statement. Second, why doesn't it print values? Third, how can we print the values?\n",
    "\n",
    "The answer to the first question -what is a tensor?....A tensor is a simple vector or matix of a certain dimensions that goes on to form a vector or matrix of higher \n",
    "dimension. The second question and third are quite simmilar. Tensorflow architecture is utilises these tensors inside a box called session to do all operations. In \n",
    "other words, the value of the tensors come into existence inside this box. Outside the box, they simply stand useless and no operations can be performed. In the next \n",
    "snippet we will see how to bring these to life. "
   ]
  },
  {
   "cell_type": "code",
   "execution_count": 3,
   "metadata": {},
   "outputs": [
    {
     "name": "stdout",
     "output_type": "stream",
     "text": [
      "a: 5 b: 6\n"
     ]
    }
   ],
   "source": [
    "with tf.Session() as sess:\n",
    "    x = sess.run(a)\n",
    "    y = sess.run(b)\n",
    "    print('a:', x, 'b:', y)"
   ]
  },
  {
   "cell_type": "code",
   "execution_count": 4,
   "metadata": {},
   "outputs": [
    {
     "name": "stdout",
     "output_type": "stream",
     "text": [
      "8.0\n",
      "2.0\n",
      "18.0\n",
      "2.0\n"
     ]
    }
   ],
   "source": [
    "c = tf.add(5.0, 3.0, name='addition')\n",
    "d = tf.subtract(4.0, 2.0, name='subtract')\n",
    "e = tf.multiply(6.0, 3.0, name='mul')\n",
    "f = tf.divide(8.0, 4.0, name='div')\n",
    "s = tf.Session()\n",
    "print(s.run(c))\n",
    "print(s.run(d))\n",
    "print(s.run(e))\n",
    "print(s.run(f))"
   ]
  },
  {
   "cell_type": "code",
   "execution_count": 5,
   "metadata": {},
   "outputs": [
    {
     "name": "stdout",
     "output_type": "stream",
     "text": [
      "10.0\n",
      "16.0\n"
     ]
    }
   ],
   "source": [
    "cd = tf.add(c, d, name='add_1')\n",
    "ef = tf.subtract(e, f, name='div_2')\n",
    "s = tf.Session()\n",
    "print(s.run(cd))\n",
    "print(s.run(ef))"
   ]
  },
  {
   "cell_type": "markdown",
   "metadata": {},
   "source": [
    "Now we will see what is a placeholder and feed_dict"
   ]
  },
  {
   "cell_type": "code",
   "execution_count": 6,
   "metadata": {},
   "outputs": [],
   "source": [
    "x = tf.placeholder('float32', name='val_1')\n",
    "y = tf.placeholder('float32', name='val_2')\n",
    "add = x + y\n",
    "p = 5\n",
    "q = 6"
   ]
  },
  {
   "cell_type": "code",
   "execution_count": 7,
   "metadata": {},
   "outputs": [
    {
     "name": "stdout",
     "output_type": "stream",
     "text": [
      "11.0\n"
     ]
    }
   ],
   "source": [
    "with tf.Session() as sess:\n",
    "    sum = sess.run(add, feed_dict={x: p, y: q})\n",
    "    print(sum)"
   ]
  },
  {
   "cell_type": "code",
   "execution_count": null,
   "metadata": {},
   "outputs": [],
   "source": []
  },
  {
   "cell_type": "code",
   "execution_count": null,
   "metadata": {},
   "outputs": [],
   "source": []
  }
 ],
 "metadata": {
  "kernelspec": {
   "display_name": "Python 3",
   "language": "python",
   "name": "python3"
  },
  "language_info": {
   "codemirror_mode": {
    "name": "ipython",
    "version": 3
   },
   "file_extension": ".py",
   "mimetype": "text/x-python",
   "name": "python",
   "nbconvert_exporter": "python",
   "pygments_lexer": "ipython3",
   "version": "3.5.5"
  }
 },
 "nbformat": 4,
 "nbformat_minor": 1
}
