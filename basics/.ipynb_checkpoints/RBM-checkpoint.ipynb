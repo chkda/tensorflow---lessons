{
 "cells": [
  {
   "cell_type": "code",
   "execution_count": 1,
   "metadata": {},
   "outputs": [],
   "source": [
    "import tensorflow as tf\n",
    "import numpy  as np\n",
    "import matplotlib.pyplot as plt\n",
    "from PIL import Image"
   ]
  },
  {
   "cell_type": "code",
   "execution_count": 3,
   "metadata": {},
   "outputs": [
    {
     "name": "stdout",
     "output_type": "stream",
     "text": [
      "Extracting MNIST_data/train-images-idx3-ubyte.gz\n",
      "Extracting MNIST_data/train-labels-idx1-ubyte.gz\n",
      "Extracting MNIST_data/t10k-images-idx3-ubyte.gz\n",
      "Extracting MNIST_data/t10k-labels-idx1-ubyte.gz\n"
     ]
    }
   ],
   "source": [
    "from tensorflow.examples.tutorials.mnist import input_data\n",
    "mnist = input_data.read_data_sets(\"MNIST_data/\",one_hot=True)\n",
    "trX,trY = mnist.train.images,mnist.train.labels\n",
    "teX,teY = mnist.test.images,mnist.test.labels"
   ]
  },
  {
   "cell_type": "code",
   "execution_count": 7,
   "metadata": {},
   "outputs": [
    {
     "name": "stdout",
     "output_type": "stream",
     "text": [
      "training images: (55000, 784)\n",
      "testing images: (10000, 784)\n"
     ]
    }
   ],
   "source": [
    "print('training images:',trX.shape)\n",
    "print('testing images:',teX.shape)"
   ]
  },
  {
   "cell_type": "code",
   "execution_count": 31,
   "metadata": {},
   "outputs": [],
   "source": [
    "weights = tf.placeholder(dtype='float32',shape=[784,392])\n",
    "bias_h = tf.placeholder(dtype='float32',shape=[392])\n",
    "bias_v = tf.placeholder(dtype='float32',shape=[784])"
   ]
  },
  {
   "cell_type": "code",
   "execution_count": 32,
   "metadata": {},
   "outputs": [],
   "source": [
    "X = tf.placeholder(shape=[None,784],dtype='float32', name='input')\n",
    "mat = tf.add(tf.matmul(X,weights),bias_h,name='add_1')\n",
    "h1 = tf.nn.sigmoid(mat)\n",
    "h2 = tf.nn.relu(tf.sign(h1-tf.random_uniform(tf.shape(h1))))"
   ]
  },
  {
   "cell_type": "code",
   "execution_count": 15,
   "metadata": {},
   "outputs": [
    {
     "name": "stdout",
     "output_type": "stream",
     "text": [
      "[ 0.69999999  0.1         0.80000001  0.2       ]\n",
      "[ 0.11043453  0.68030286  0.05827534  0.58409774]\n",
      "[ 0.58956546 -0.58030283  0.74172467 -0.38409775]\n",
      "[ 1. -1.  1. -1.]\n",
      "[ 1.  0.  1.  0.]\n"
     ]
    }
   ],
   "source": [
    "with  tf.Session() as sess:\n",
    "    a = tf.constant([0.7, 0.1, 0.8, 0.2])\n",
    "    print (sess.run(a))\n",
    "    b = sess.run(tf.random_uniform(tf.shape(a)))\n",
    "    print (b)\n",
    "    print (sess.run(a-b))\n",
    "    print (sess.run(tf.sign( a - b)))\n",
    "    print (sess.run(tf.nn.relu(tf.sign( a - b))))"
   ]
  },
  {
   "cell_type": "code",
   "execution_count": 35,
   "metadata": {},
   "outputs": [],
   "source": [
    "mat1 = tf.add(tf.matmul(h2,tf.transpose(weights),name='matmul_2'),bias_v, name='add_2')\n",
    "v1 = tf.nn.sigmoid(mat1)\n",
    "v2 = tf.nn.relu(tf.sign(v1-tf.random_uniform(tf.shape(v1))))\n",
    "h = tf.nn.sigmoid(tf.add(tf.matmul(v2,weights),bias_h))"
   ]
  },
  {
   "cell_type": "code",
   "execution_count": 36,
   "metadata": {},
   "outputs": [],
   "source": [
    "alpha = 1.0\n",
    "w_pos_grad = tf.matmul(tf.transpose(X),h2)\n",
    "w_neg_grad = tf.matmul(tf.transpose(v2),h)\n",
    "CD = (w_pos_grad-w_neg_grad)/tf.to_float(tf.shape(X)[0])\n",
    "update_w = weights + alpha*CD\n",
    "update_vb = bias_v + alpha*tf.reduce_mean(X-v2,0)\n",
    "update_bb = bias_h + alpha*tf.reduce_mean(h2-h,0)"
   ]
  },
  {
   "cell_type": "code",
   "execution_count": 37,
   "metadata": {},
   "outputs": [],
   "source": [
    "err = tf.reduce_mean(tf.square(X-v2))"
   ]
  },
  {
   "cell_type": "code",
   "execution_count": 38,
   "metadata": {},
   "outputs": [
    {
     "data": {
      "text/plain": [
       "0.4814975"
      ]
     },
     "execution_count": 38,
     "metadata": {},
     "output_type": "execute_result"
    }
   ],
   "source": [
    "cur_w = np.zeros([784,392],dtype='float32')\n",
    "cur_h = np.zeros([392],dtype='float32')\n",
    "cur_v = np.zeros([784],dtype='float32')\n",
    "prv_w = np.zeros([784,392],dtype='float32')\n",
    "prv_h = np.zeros([392],dtype='float32')\n",
    "prv_v = np.zeros([784],dtype='float32')\n",
    "init = tf.global_variables_initializer()\n",
    "sess = tf.Session()\n",
    "sess.run(init)\n",
    "sess.run(err,feed_dict={X:trX,weights:prv_w,bias_h:prv_h,bias_v:prv_v})        "
   ]
  },
  {
   "cell_type": "code",
   "execution_count": 41,
   "metadata": {},
   "outputs": [
    {
     "name": "stdout",
     "output_type": "stream",
     "text": [
      "Epoch: 0 reconstruction error: 0.043107\n",
      "Epoch: 1 reconstruction error: 0.043755\n",
      "Epoch: 2 reconstruction error: 0.042841\n",
      "Epoch: 3 reconstruction error: 0.043050\n",
      "Epoch: 4 reconstruction error: 0.042879\n"
     ]
    }
   ],
   "source": [
    "epochs = 5\n",
    "batch_size = 100\n",
    "errors = []\n",
    "for epoch in range(epochs):\n",
    "    for start,end in zip(range(0,len(trX),batch_size),range(batch_size,len(trX),batch_size)):\n",
    "        batch = trX[start:end]\n",
    "        cur_w = sess.run(update_w,feed_dict={X:batch,weights:prv_w,bias_h:prv_h,bias_v:prv_v})\n",
    "        cur_h = sess.run(update_bb,feed_dict={X:batch,weights:prv_w,bias_h:prv_h,bias_v:prv_v})\n",
    "        cur_v = sess.run(update_vb,feed_dict={X:batch,weights:prv_w,bias_h:prv_h,bias_v:prv_v})\n",
    "        prv_w = cur_w\n",
    "        prv_h = cur_h\n",
    "        prv_v = cur_v\n",
    "        if start % 10000 ==0:\n",
    "            errors.append(sess.run(err,feed_dict={X:batch,weights:prv_w,bias_h:prv_h,bias_v:prv_v}))\n",
    "            \n",
    "    print ('Epoch: %d' % epoch,'reconstruction error: %f' % errors[-1])"
   ]
  },
  {
   "cell_type": "code",
   "execution_count": null,
   "metadata": {},
   "outputs": [],
   "source": []
  }
 ],
 "metadata": {
  "kernelspec": {
   "display_name": "Python 3",
   "language": "python",
   "name": "python3"
  },
  "language_info": {
   "codemirror_mode": {
    "name": "ipython",
    "version": 3
   },
   "file_extension": ".py",
   "mimetype": "text/x-python",
   "name": "python",
   "nbconvert_exporter": "python",
   "pygments_lexer": "ipython3",
   "version": "3.5.5"
  }
 },
 "nbformat": 4,
 "nbformat_minor": 2
}
